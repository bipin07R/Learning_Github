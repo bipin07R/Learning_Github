{
 "cells": [
  {
   "cell_type": "markdown",
   "id": "887864f4-07b1-4ef6-a088-a7d242f69f92",
   "metadata": {},
   "source": [
    "## Proble Statement"
   ]
  },
  {
   "cell_type": "raw",
   "id": "ac062a29-c0d1-4642-bfe2-b39020ad533f",
   "metadata": {},
   "source": [
    "Simple data set with only tow data points - house with 1000 square feet(sqrt) solf for\n",
    "300000 and a house with 2000 square feet sold for 500000 These two points will constitude\n",
    "our dataor training set. \n"
   ]
  },
  {
   "cell_type": "code",
   "execution_count": 5,
   "id": "62132516-8c1e-4da8-9651-9f2b9338c40f",
   "metadata": {},
   "outputs": [],
   "source": [
    "import numpy as np\n",
    "import matplotlib.pyplot as plt\n",
    "#plt.style.use('./deeplearning.mplstyle')"
   ]
  },
  {
   "cell_type": "markdown",
   "id": "53a41d4c-bf25-4c8b-8676-a2955c57a4d5",
   "metadata": {},
   "source": [
    "#### Create variables "
   ]
  },
  {
   "cell_type": "code",
   "execution_count": 8,
   "id": "654779a2-279b-4d49-8c93-1c297075c317",
   "metadata": {},
   "outputs": [
    {
     "name": "stdout",
     "output_type": "stream",
     "text": [
      "x_train = [1. 2. 3. 4. 5.]\n",
      "y_train = [300. 500. 700. 800. 900.]\n"
     ]
    }
   ],
   "source": [
    "# x_train is the input variable (size in 1000 square feet)\n",
    "# y_train is the target (price in 1000s of dollars)\n",
    "\n",
    "x_train = np.array([1.0, 2.0, 3.0, 4.0, 5.0])\n",
    "y_train = np.array([300.0, 500.0, 700.0, 800.0, 900.0])\n",
    "print(f\"x_train = {x_train}\")\n",
    "print(f\"y_train = {y_train}\")"
   ]
  },
  {
   "cell_type": "markdown",
   "id": "57efb367-2bdd-4599-8f43-ace8f6c199ad",
   "metadata": {},
   "source": [
    "#### Number of Training examples m"
   ]
  },
  {
   "cell_type": "code",
   "execution_count": 11,
   "id": "5ff5c32d-5ab5-498b-ad2e-a11bdc9213d2",
   "metadata": {},
   "outputs": [
    {
     "name": "stdout",
     "output_type": "stream",
     "text": [
      "x_train.shape : (5,)\n",
      "Number of training examples is : 5\n"
     ]
    }
   ],
   "source": [
    "# m is the number of training examples\n",
    "print(f\"x_train.shape : {x_train.shape}\")\n",
    "m = x_train.shape[0]\n",
    "print(f'Number of training examples is : {m}')"
   ]
  },
  {
   "cell_type": "markdown",
   "id": "07c145bc-35ce-4b7c-b652-d6e5209e2762",
   "metadata": {},
   "source": [
    "#### Training Examle `x_i y_i`\n",
    "\r\n",
    "You will use (x$^{(i)}$, y$^{(i)}$) to denote the $i^{th}$ training example. Since Python is zero indexed, (x$^{(0)}$, y$^{(0)}$) is (1.0, 300.0) and (x$^{(1)}$, y$^{(1)}$) is (2.0, 500.0). \r\n",
    "\r\n",
    "To access a value in a Numpy array, one indexes the array with the desired offset. For example the syntax to access location zero of `x_train` is `x_train[0]`.\r\n",
    "Run the next code block below to get the $i^{th}$ training example.\n"
   ]
  },
  {
   "cell_type": "code",
   "execution_count": 16,
   "id": "e3104df4-94a5-44cc-b5e7-f6e312381d57",
   "metadata": {},
   "outputs": [
    {
     "name": "stdout",
     "output_type": "stream",
     "text": [
      "(x^(0),y^(0)) = (1.0, 300.0)\n"
     ]
    }
   ],
   "source": [
    "i = 0 # change the to 1 to see (x^1, y^a)\n",
    "x_i = x_train[i]\n",
    "y_i = y_train[i]\n",
    "print(f\"(x^({i}),y^({i})) = ({x_i}, {y_i})\")"
   ]
  },
  {
   "cell_type": "markdown",
   "id": "2d44048e-82b5-489a-8d05-68ef38a5c6a6",
   "metadata": {},
   "source": [
    "#### Plotting the data "
   ]
  },
  {
   "cell_type": "code",
   "execution_count": 19,
   "id": "7d090882-51c5-4193-b378-b679d47a331d",
   "metadata": {},
   "outputs": [
    {
     "data": {
      "image/png": "[encoded data removed]",
      "text/plain": [
       "<Figure size 640x480 with 1 Axes>"
      ]
     },
     "metadata": {},
     "output_type": "display_data"
    }
   ],
   "source": [
    "# Plot the data points\n",
    "plt.scatter(x_train, y_train, marker ='o', c= 'r')\n",
    "plt.title(\"Housing Prices\")\n",
    "plt.ylabel(\"Price (in 1000s of ruppe)\")\n",
    "plt.xlabel(('Size (1000 sqft'))\n",
    "plt.show()"
   ]
  },
  {
   "cell_type": "markdown",
   "id": "e8a5d92c-bdd6-49d8-b7b8-5df995b3c3dc",
   "metadata": {},
   "source": [
    "## Model Fucntion \n",
    "> As described in lecture, the model function for linear regression (which is a function that maps from `x` to `y`) is represented as \r\n",
    "\r\n",
    "$$ f_{w,b}(x^{(i)}) = wx^{(i)} + b \\tag{1}$$\r\n",
    "\n",
    "The formula above is how you can represent straight lines - different values of $w$ and $b$ give you different straight lines on the plot. <br/> <br/> <br/> <br/> <br/ \n",
    "\n",
    "Let's try to get a better intuition for this through the code blocks below. Let's start with $w = 100$ and $b = 100$. \n",
    "\n",
    "**Note: You can come back to this cell to adjust the model's w and b parameters**\n"
   ]
  },
  {
   "cell_type": "code",
   "execution_count": 21,
   "id": "f3ccc7b8-636e-4db7-b5e1-cf1940a5e968",
   "metadata": {},
   "outputs": [
    {
     "name": "stdout",
     "output_type": "stream",
     "text": [
      "w: 100\n",
      "b: 100\n"
     ]
    }
   ],
   "source": [
    "w = 100\n",
    "b = 100\n",
    "\n",
    "print(f\"w: {w}\")\n",
    "print(f\"b: {b}\")"
   ]
  },
  {
   "cell_type": "markdown",
   "id": "a08631a1-3ecf-418c-8904-9e97e0a15bdd",
   "metadata": {},
   "source": [
    "Now, let's compute the value of $f_{w,b}(x^{(i)})$ for your two data points. You can explicitly write this out for each data point as - \n",
    "\n",
    "for $x^{(0)}$, `f_wb = w * x[0] + b`\n",
    "\n",
    "for $x^{(1)}$, `f_wb = w * x[1] + b`\n",
    "\n",
    "For a large number of data points, this can get unwieldy and repetitive. So instead, you can calculate the function output in a `for` loop as shown in the `compute_model_output` function below.\n",
    "> **Note**: The argument description `(ndarray (m,))` describes a Numpy n-dimensional array of shape (m,). `(scalar)` describes an argument without dimensions, just a magnitude.  \n",
    "> **Note**: `np.zero(n)` will return a one-dimensional numpy array with $n$ entries   \n"
   ]
  },
  {
   "cell_type": "code",
   "execution_count": 23,
   "id": "358a87dc-d627-4f3b-aec9-79374449947e",
   "metadata": {},
   "outputs": [],
   "source": [
    "def compute_model_output(x, w, b):\r\n",
    "    \"\"\"\r\n",
    "    Computes the prediction of a linear model\r\n",
    "    Args:\r\n",
    "      x (ndarray (m,)): Data, m examples \r\n",
    "      w,b (scalar)    : model parameters  \r\n",
    "    Returns\r\n",
    "      f_wb (ndarray (m,)): model prediction\r\n",
    "    \"\"\"\r\n",
    "    m = x.shape[0]\r\n",
    "    f_wb = np.zeros(m)\r\n",
    "    for i in range(m):\r\n",
    "        f_wb[i] = w * x[i] + b\r\n",
    "        \r\n",
    "    return f_wb\n",
    "    "
   ]
  },
  {
   "cell_type": "code",
   "execution_count": 27,
   "id": "77307539-23ab-4434-83dc-0f443f970379",
   "metadata": {},
   "outputs": [
    {
     "data": {
      "image/png": "[encoded data removed]",
      "text/plain": [
       "<Figure size 640x480 with 1 Axes>"
      ]
     },
     "metadata": {},
     "output_type": "display_data"
    }
   ],
   "source": [
    "tmp_f_wb = compute_model_output(x_train, w, b,)\n",
    "#plot the model prediction\n",
    "plt.plot(x_train, tmp_f_wb, c = 'b', label = 'Our Prediction')\n",
    "\n",
    "#Plot the data point\n",
    "plt.scatter(x_train, y_train, marker ='x', c='r', label = 'Acutal values')\n",
    "\n",
    "plt.title(\"House price\")\n",
    "plt.ylabel('Price (in 1000a of ruppe)')\n",
    "plt.xlabel('Size of (1000 sqft)')\n",
    "plt.legend()\n",
    "plt.show()\n"
   ]
  },
  {
   "cell_type": "markdown",
   "id": "d2b796c6-f831-4e3a-b036-faee79ed2e9e",
   "metadata": {},
   "source": [
    "### Prediction\n",
    "Now that we have a model, we can use it to make our original prediction. Let's predict the price of a house with 1200 sqft. Since the units of $x$ are in 1000's of sqft, $x$ is 1.2.\n"
   ]
  },
  {
   "cell_type": "code",
   "execution_count": 35,
   "id": "0861746f-9e2a-47de-9546-8a11a242e7dc",
   "metadata": {},
   "outputs": [
    {
     "name": "stdout",
     "output_type": "stream",
     "text": [
      "$340 thousand dollars\n"
     ]
    }
   ],
   "source": [
    "w = 200                         \n",
    "b = 100    \n",
    "x_i = 1.2\n",
    "cost_1200sqft = w * x_i + b    \n",
    "\n",
    "print(f\"${cost_1200sqft:.0f} thousand dollars\")"
   ]
  },
  {
   "cell_type": "code",
   "execution_count": 32,
   "id": "460ac8a2-6436-4a13-bd90-4a70295c2815",
   "metadata": {},
   "outputs": [
    {
     "data": {
      "text/plain": [
       "800.0"
      ]
     },
     "execution_count": 32,
     "metadata": {},
     "output_type": "execute_result"
    }
   ],
   "source": [
    "cost_1200sqft"
   ]
  },
  {
   "cell_type": "code",
   "execution_count": null,
   "id": "f7bda6b0-d67d-4721-8009-cd6e3b9baed1",
   "metadata": {},
   "outputs": [],
   "source": []
  }
 ],
 "metadata": {
  "kernelspec": {
   "display_name": "Python 3 (ipykernel)",
   "language": "python",
   "name": "python3"
  },
  "language_info": {
   "codemirror_mode": {
    "name": "ipython",
    "version": 3
   },
   "file_extension": ".py",
   "mimetype": "text/x-python",
   "name": "python",
   "nbconvert_exporter": "python",
   "pygments_lexer": "ipython3",
   "version": "3.11.7"
  }
 },
 "nbformat": 4,
 "nbformat_minor": 5
}
